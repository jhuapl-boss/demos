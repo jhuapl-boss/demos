{
 "cells": [
  {
   "cell_type": "code",
   "execution_count": null,
   "metadata": {
    "collapsed": false
   },
   "outputs": [],
   "source": [
    "%pylab inline\n",
    "\n",
    "# JSAnimation import available at https://github.com/jakevdp/JSAnimation\n",
    "from JSAnimation.JSAnimation import IPython_display\n",
    "from matplotlib import animation\n",
    "\n",
    "import numpy as np\n",
    "\n",
    "from intern.remote.boss import BossRemote\n",
    "from intern.resource.boss.resource import ChannelResource\n"
   ]
  },
  {
   "cell_type": "markdown",
   "metadata": {},
   "source": [
    "## Setup `intern` Remote Instance\n",
    "\n",
    "Create an instance of the Boss Python SDK intern.  You need to provide configuration details to the library.\n",
    "\n",
    "- Copy `./boss.cfg.example` to `./boss.cfg`\n",
    "- Get your API Token: https://api.theboss.io/token\n",
    "- Copy and paste your API token into `./boss.cfg`"
   ]
  },
  {
   "cell_type": "code",
   "execution_count": null,
   "metadata": {
    "collapsed": true
   },
   "outputs": [],
   "source": [
    "rmt = BossRemote(\"./boss.cfg\")"
   ]
  },
  {
   "cell_type": "markdown",
   "metadata": {},
   "source": [
    "## Create a Channel Resource\n",
    "\n",
    "We interact with the Boss via \"resources\" which represent how data is organized in the Boss.  `Channels` store image data.  Let's create"
   ]
  },
  {
   "cell_type": "code",
   "execution_count": null,
   "metadata": {
    "collapsed": false
   },
   "outputs": [],
   "source": [
    "# Create a resource for the channel you want to access. Let's use a publically available dataset\n",
    "collection_name = \"my_col\"\n",
    "experiment_name = \"my_exp\"\n",
    "channel_name = \"my_ch\"\n",
    "channel = ChannelResource(channel_name, collection_name, experiment_name)\n",
    "channel = rmt.get_project(channel)"
   ]
  },
  {
   "cell_type": "markdown",
   "metadata": {},
   "source": [
    "## Set Cutout Arguments\n",
    "Set the spatial extent for the cutout.  Here we are doing a cutout of non-time series data, but if the channel you were accessing contained multiple time samples, you could simply add a time range to the query.  See the `intern` docs for more detail:\n",
    "\n",
    "- Wiki: https://github.com/jhuapl-boss/intern/wiki\n",
    "- Docs: https://jhuapl-boss.github.io/intern/\n",
    "- Examples: https://github.com/jhuapl-boss/intern/tree/master/examples"
   ]
  },
  {
   "cell_type": "code",
   "execution_count": null,
   "metadata": {
    "collapsed": false
   },
   "outputs": [],
   "source": [
    "x_rng = [0, 512]\n",
    "y_rng = [0, 512]\n",
    "z_slice = 100\n",
    "t_rng = [0, 10]\n",
    "time_data1 = rmt.get_cutout(channel, 0, x_rng, y_rng, [z_slice,z_slice+1], t_rng)\n",
    "time_data1.shape"
   ]
  },
  {
   "cell_type": "code",
   "execution_count": null,
   "metadata": {
    "collapsed": false
   },
   "outputs": [],
   "source": [
    "apply_normalization = True\n",
    "apply_hist_eq = False\n",
    "time_data = time_data1\n",
    "np.max(time_data)"
   ]
  },
  {
   "cell_type": "code",
   "execution_count": null,
   "metadata": {
    "collapsed": false
   },
   "outputs": [],
   "source": [
    "hist_data = np.histogram(time_data, bins=256)\n",
    "min_val = hist_data[1][0]\n",
    "max_val = hist_data[1][-1]\n",
    "print(\"Min: {}\".format(min_val))\n",
    "print(\"Max: {}\".format(max_val))"
   ]
  },
  {
   "cell_type": "code",
   "execution_count": null,
   "metadata": {
    "collapsed": false
   },
   "outputs": [],
   "source": [
    "def normalize(image_in):\n",
    "    val_min = float(image_in.min())\n",
    "    val_max = float(image_in.max())\n",
    "    \n",
    "    data_equalized = np.zeros(image_in.shape)\n",
    "    for i in range(image_in.shape[0]):\n",
    "        data_equalized[i, 0, :, :] = np.floor((image_in[i, 0, :, :]-val_min)/(val_max-val_min)*255.)\n",
    "        \n",
    "    return data_equalized\n",
    "\n",
    "def histogram_eq_uint8(image_in, number_bins=256):\n",
    "    # from http://www.janeriksolem.net/2009/06/histogram-equalization-with-python-and.html\n",
    "\n",
    "    # get image histogram\n",
    "    image_histogram, bins = np.histogram(image_in.flatten(), number_bins, normed=True)\n",
    "    cdf = image_histogram.cumsum() # cumulative distribution function\n",
    "    cdf = 255 * cdf / cdf[-1] # normalize\n",
    "\n",
    "    data_equalized = np.zeros(image_in.shape)\n",
    "    for i in range(image_in.shape[0]):\n",
    "        # use linear interpolation of cdf to find new pixel values\n",
    "        image_equalized = np.interp(image_in[i, 0, :, :].flatten(), bins[:-1], cdf)\n",
    "        data_equalized[i, 0, :, :] = image_equalized.reshape(image_in[i, 0, :, :].shape)\n",
    "    return data_equalized\n",
    "\n",
    "if apply_hist_eq:\n",
    "    time_data = histogram_eq_uint8(time_data)\n",
    "    \n",
    "if apply_normalization:\n",
    "    time_data = normalize(time_data)"
   ]
  },
  {
   "cell_type": "code",
   "execution_count": null,
   "metadata": {
    "collapsed": false
   },
   "outputs": [],
   "source": [
    "time_data = np.array(time_data, dtype=np.uint8)"
   ]
  },
  {
   "cell_type": "code",
   "execution_count": null,
   "metadata": {
    "collapsed": false
   },
   "outputs": [],
   "source": [
    "print(time_data.min())\n",
    "print(time_data.max())\n",
    "print(time_data.dtype)\n",
    "print(time_data.shape)"
   ]
  },
  {
   "cell_type": "code",
   "execution_count": null,
   "metadata": {
    "collapsed": false
   },
   "outputs": [],
   "source": [
    "fig = plt.figure()\n",
    "im = plt.imshow(time_data[0,0,:,:], cmap=plt.cm.gray, interpolation='bicubic') \n",
    "\n",
    "def init():\n",
    "    im.set_data(time_data[0,0,:,:])\n",
    "\n",
    "def animate(i): \n",
    "    im.set_data(time_data[i,0,:,:])\n",
    "    return im\n",
    "\n",
    "animation.FuncAnimation(fig, animate, init_func=init, frames=time_data.shape[0],\n",
    "                               interval=75)"
   ]
  },
  {
   "cell_type": "code",
   "execution_count": null,
   "metadata": {
    "collapsed": true
   },
   "outputs": [],
   "source": []
  }
 ],
 "metadata": {
  "kernelspec": {
   "display_name": "Python 3",
   "language": "python",
   "name": "python3"
  },
  "language_info": {
   "codemirror_mode": {
    "name": "ipython",
    "version": 3
   },
   "file_extension": ".py",
   "mimetype": "text/x-python",
   "name": "python",
   "nbconvert_exporter": "python",
   "pygments_lexer": "ipython3",
   "version": "3.5.0"
  }
 },
 "nbformat": 4,
 "nbformat_minor": 0
}
