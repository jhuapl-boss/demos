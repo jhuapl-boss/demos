{
 "cells": [
  {
   "cell_type": "code",
   "execution_count": null,
   "metadata": {
    "collapsed": false
   },
   "outputs": [],
   "source": [
    "%pylab inline\n",
    "\n",
    "# JSAnimation import available at https://github.com/jakevdp/JSAnimation\n",
    "from JSAnimation.JSAnimation import IPython_display\n",
    "from matplotlib import animation\n",
    "\n",
    "import numpy as np\n",
    "\n",
    "from intern.remote.boss import BossRemote\n",
    "from intern.resource.boss.resource import ChannelResource"
   ]
  },
  {
   "cell_type": "markdown",
   "metadata": {},
   "source": [
    "## Setup `intern` Remote Instance\n",
    "\n",
    "Create an instance of the Boss Python SDK intern.  You need to provide configuration details to the library.\n",
    "\n",
    "- Copy `./boss.cfg.example` to `./boss.cfg`\n",
    "- Get your API Token: https://api.theboss.io/token\n",
    "- Copy and paste your API token into `./boss.cfg`"
   ]
  },
  {
   "cell_type": "code",
   "execution_count": null,
   "metadata": {
    "collapsed": true
   },
   "outputs": [],
   "source": [
    "rmt = BossRemote(\"./boss.cfg\")"
   ]
  },
  {
   "cell_type": "markdown",
   "metadata": {},
   "source": [
    "## Create a Channel Resource\n",
    "\n",
    "We interact with the Boss via \"resources\" which represent how data is organized in the Boss.  `Channels` store image data.  Let's create"
   ]
  },
  {
   "cell_type": "code",
   "execution_count": null,
   "metadata": {
    "collapsed": true
   },
   "outputs": [],
   "source": [
    "# Create a resource for the channel you want to access. Let's use a publically available dataset\n",
    "collection_name = \"kasthuri15\"\n",
    "experiment_name = \"ac4\"\n",
    "channel_name = \"em\"\n",
    "channel = ChannelResource(channel_name, collection_name, experiment_name)"
   ]
  },
  {
   "cell_type": "markdown",
   "metadata": {},
   "source": [
    "## Set Cutout Arguments\n",
    "Set the spatial extent for the cutout.  Here we are doing a cutout of non-time series data, but if the channel you were accessing contained multiple time samples, you could simply add a time range to the query.  See the `intern` docs for more detail:\n",
    "\n",
    "- Wiki: https://github.com/jhuapl-boss/intern/wiki\n",
    "- Docs: https://jhuapl-boss.github.io/intern/\n",
    "- Examples: https://github.com/jhuapl-boss/intern/tree/master/examples"
   ]
  },
  {
   "cell_type": "code",
   "execution_count": null,
   "metadata": {
    "collapsed": true
   },
   "outputs": [],
   "source": [
    "x_rng = [0, 1024]\n",
    "y_rng = [0, 1024]\n",
    "z_rng = [0, 16]\n",
    "data = rmt.get_cutout(channel, 0, x_rng, y_rng, z_rng)"
   ]
  },
  {
   "cell_type": "code",
   "execution_count": null,
   "metadata": {
    "collapsed": false
   },
   "outputs": [],
   "source": [
    "# Plot\n",
    "fig0 = plt.figure(figsize=(6,6))\n",
    "im = plt.imshow(data[1,:,:], cmap=plt.cm.gray, clim=(data.min(), data.max())) \n",
    "\n",
    "def init():\n",
    "    im.set_data(data[1,:,:])\n",
    "\n",
    "def animate(i):   \n",
    "    im.set_data(data[i,:,:])\n",
    "    return im\n",
    "\n",
    "animation.FuncAnimation(fig0, animate, init_func=init, frames=data.shape[0], interval=50)"
   ]
  }
 ],
 "metadata": {
  "kernelspec": {
   "display_name": "Python 3",
   "language": "python",
   "name": "python3"
  },
  "language_info": {
   "codemirror_mode": {
    "name": "ipython",
    "version": 3
   },
   "file_extension": ".py",
   "mimetype": "text/x-python",
   "name": "python",
   "nbconvert_exporter": "python",
   "pygments_lexer": "ipython3",
   "version": "3.5.0"
  }
 },
 "nbformat": 4,
 "nbformat_minor": 0
}
