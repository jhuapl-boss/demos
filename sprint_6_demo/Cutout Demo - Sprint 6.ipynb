{
 "cells": [
  {
   "cell_type": "code",
   "execution_count": null,
   "metadata": {
    "collapsed": false
   },
   "outputs": [],
   "source": [
    "%pylab inline\n",
    "\n",
    "# JSAnimation import available at https://github.com/jakevdp/JSAnimation\n",
    "from JSAnimation import IPython_display\n",
    "from matplotlib import animation\n",
    "\n",
    "import numpy as np\n",
    "\n",
    "from ndio.remote.boss.remote import Remote\n",
    "from ndio.ndresource.boss.resource import *\n",
    "from ndio.convert.tiff import load_tiff_multipage\n",
    "\n",
    "import os\n",
    "from datetime import datetime\n",
    "from skimage.filters.rank import median\n",
    "from skimage.morphology import disk\n",
    "\n",
    "from skimage import exposure\n",
    "from skimage.filters.rank import enhance_contrast_percentile\n",
    "from skimage.morphology import disk\n",
    "\n",
    "\n",
    "data_dir = \"/Users/kleisdm1/my_data/MICrONS/data\""
   ]
  },
  {
   "cell_type": "markdown",
   "metadata": {},
   "source": [
    "## Setup ndio Remote instance for the Boss\n",
    "\n",
    "We are passing in a config file that is set up with the endpoint location and credentials"
   ]
  },
  {
   "cell_type": "code",
   "execution_count": null,
   "metadata": {
    "collapsed": false
   },
   "outputs": [],
   "source": [
    "rmt = Remote('demo.cfg')\n",
    "API_VER = 'v0.5'"
   ]
  },
  {
   "cell_type": "markdown",
   "metadata": {},
   "source": [
    "## Create Resources to for Ingest Job\n",
    "Currently you must pre-create resources (collection, experiment, channel) for ingest.  This specifies _were_ data will be written in the Boss."
   ]
  },
  {
   "cell_type": "code",
   "execution_count": null,
   "metadata": {
    "collapsed": true
   },
   "outputs": [],
   "source": [
    "col_name = \"col5\"\n",
    "exp_name = \"exp5\"\n",
    "ch_name = \"ch5\""
   ]
  },
  {
   "cell_type": "code",
   "execution_count": null,
   "metadata": {
    "collapsed": false
   },
   "outputs": [],
   "source": [
    "# Create Collection\n",
    "col = CollectionResource(col_name, API_VER, 'Ingest Example Collection')\n",
    "try:\n",
    "    col = rmt.project_create(col)\n",
    "    if col:\n",
    "        print(\"Successfully Created Collection {}\".format(col_name))\n",
    "except:\n",
    "    col = rmt.project_get(col)\n",
    "\n",
    "\n",
    "# Create functional Coordinate Frame\n",
    "coord_ca = CoordinateFrameResource('functional_test_coord_frame', API_VER,\n",
    "                                       'Coordinate frame for a sample calcium imaging data set.', 0, 796, 0, 512, 0, 1)\n",
    "try:\n",
    "    coord_ca = rmt.project_create(coord_ca)\n",
    "    if coord_ca:\n",
    "        print(\"Successfully Created Coordinate Frame 'functional_test_coord_frame'\")\n",
    "except:\n",
    "    coord_ca = rmt.project_get(coord_ca)\n",
    "\n",
    "\n",
    "# Create Experiment for EM data\n",
    "exp = ExperimentResource(exp_name, col_name, API_VER, 'Experiment for a test functional dataset.',\n",
    "                            coord_ca.id, max_time_sample=1600)\n",
    "try:\n",
    "    exp = rmt.project_create(exp)\n",
    "    if exp:\n",
    "        print(\"Successfully Created Experiment {}\".format(exp_name))\n",
    "except:\n",
    "    exp = rmt.project_get(exp)\n",
    "\n",
    "dynamic_chan = ChannelResource(ch_name, col_name, exp_name, API_VER,\n",
    "                                   'CaMP6f calcium channel (green channel)',\n",
    "                                   datatype='uint16')\n",
    "try:\n",
    "    dynamic_chan = rmt.project_create(dynamic_chan)\n",
    "    if dynamic_chan:\n",
    "        print(\"Successfully Created Channel {}\".format(ch_name))\n",
    "except:\n",
    "    dynamic_chan = rmt.project_get(dynamic_chan)"
   ]
  },
  {
   "cell_type": "markdown",
   "metadata": {},
   "source": [
    "## Acessing Calcium Imaging Data - Multichannel uint16 with time series support\n",
    "\n",
    "A small sample dataset provided by Sandra Kuhlman of CMU has been loaded into the Boss.  It is 796x512x1 spatially with 1500 time samples.  It also contains two channels that store different information"
   ]
  },
  {
   "cell_type": "code",
   "execution_count": null,
   "metadata": {
    "collapsed": false
   },
   "outputs": [],
   "source": [
    "import pprint\n",
    "pp = pprint.PrettyPrinter(indent=4)\n",
    "\n",
    "calcium_experiment_channels = rmt.project_list(exp)\n",
    "pp.pprint(calcium_experiment_channels)"
   ]
  },
  {
   "cell_type": "code",
   "execution_count": null,
   "metadata": {
    "collapsed": false
   },
   "outputs": [],
   "source": [
    "# Do a cutout\n",
    "x_rng = '0:796'\n",
    "y_rng = '0:512'\n",
    "z_rng = '0:1'\n",
    "t_rng = '0:25'\n",
    "print(\"Downloading data\")\n",
    "start = datetime.now()\n",
    "time_data = rmt.cutout_get(dynamic_chan, 0, x_rng, y_rng, z_rng, t_rng)\n",
    "print(\"Done!\")\n",
    "print(time_data.shape)\n",
    "print(time_data.min())\n",
    "print(time_data.max())"
   ]
  },
  {
   "cell_type": "code",
   "execution_count": null,
   "metadata": {
    "collapsed": false
   },
   "outputs": [],
   "source": [
    "# Method to window a 16-bit image\n",
    "def window_img(image, min_val, max_val):\n",
    "    image_scaled = zeros(image.shape)\n",
    "    np.clip(image, min_val, max_val, out=image_scaled)\n",
    "    np.subtract(image_scaled, min_val, out=image_scaled)\n",
    "    #return np.multiply( image_scaled,np.iinfo(np.uint16).max/(max_val-min_val),out=image_scaled)\n",
    "    return np.multiply(image_scaled,255./(max_val-min_val),out=image_scaled).astype(np.uint8)\n",
    "\n",
    "# Window dynamic channel cutout\n",
    "time_data_dynamic = window_img(time_data, 3500, 7800)\n",
    "\n",
    "# Denoise\n",
    "time_data_dynamic_denoise = np.zeros(time_data.shape, dtype=uint8)\n",
    "for frame in range(0, time_data.shape[0]-1):\n",
    "    time_data_dynamic_denoise[frame, 0, :, :] = (median(time_data_dynamic[frame,0, :, :], disk(3)))\n",
    "\n"
   ]
  },
  {
   "cell_type": "code",
   "execution_count": null,
   "metadata": {
    "collapsed": false
   },
   "outputs": [],
   "source": [
    "fig = plt.figure()\n",
    "im = plt.imshow(time_data_dynamic_denoise[1,0,:,:], cmap=plt.cm.gray, interpolation='bicubic') \n",
    "\n",
    "def init():\n",
    "    im.set_data(time_data_dynamic_denoise[1,0,:,:])\n",
    "\n",
    "def animate(i): \n",
    "    im.set_data(time_data_dynamic_denoise[i,0,:,:])\n",
    "    return im\n",
    "\n",
    "animation.FuncAnimation(fig, animate, init_func=init, frames=time_data_dynamic_denoise.shape[0],\n",
    "                               interval=75)\n",
    "\n"
   ]
  }
 ],
 "metadata": {
  "kernelspec": {
   "display_name": "Python 3",
   "language": "python",
   "name": "python3"
  },
  "language_info": {
   "codemirror_mode": {
    "name": "ipython",
    "version": 3
   },
   "file_extension": ".py",
   "mimetype": "text/x-python",
   "name": "python",
   "nbconvert_exporter": "python",
   "pygments_lexer": "ipython3",
   "version": "3.5.0"
  }
 },
 "nbformat": 4,
 "nbformat_minor": 0
}
