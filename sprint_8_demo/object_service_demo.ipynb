{
 "cells": [
  {
   "cell_type": "code",
   "execution_count": null,
   "metadata": {
    "collapsed": false
   },
   "outputs": [],
   "source": [
    "%pylab inline\n",
    "\n",
    "# JSAnimation import available at https://github.com/jakevdp/JSAnimation\n",
    "from JSAnimation.JSAnimation import IPython_display\n",
    "from matplotlib import animation\n",
    "\n",
    "import numpy as np\n",
    "\n",
    "from intern.remote.boss import BossRemote\n",
    "from intern.resource.boss.resource import *"
   ]
  },
  {
   "cell_type": "markdown",
   "metadata": {},
   "source": [
    "## Setup `intern` Remote Instance\n",
    "\n",
    "Create an instance of the Boss Python SDK intern.  You need to provide configuration details to the library.\n",
    "\n",
    "- Get your API Token: https://api.theboss.io/token\n",
    "- Update `./demo.cfg` to contain your token"
   ]
  },
  {
   "cell_type": "code",
   "execution_count": null,
   "metadata": {
    "collapsed": true
   },
   "outputs": [],
   "source": [
    "rmt = BossRemote('./demo.cfg')"
   ]
  },
  {
   "cell_type": "markdown",
   "metadata": {},
   "source": [
    "## Create a Channel Resource\n",
    "\n",
    "We interact with the Boss via \"resources\" which represent how data is organized in the Boss.  \n",
    "\n",
    "`Channels` store image data.  Let's get an existing channel that has been loaded with a small 4096x4096x48 chunk of data from the Princeton Waypoint"
   ]
  },
  {
   "cell_type": "code",
   "execution_count": null,
   "metadata": {
    "collapsed": false
   },
   "outputs": [],
   "source": [
    "ch = ChannelResource(\"anno\", \"demo8\", \"example\")\n",
    "ch = rmt.get_project(ch)"
   ]
  },
  {
   "cell_type": "markdown",
   "metadata": {},
   "source": [
    "## Reserve ID Service\n",
    "\n",
    "The Boss provides an atomic ID Reservation service, in case you want to upload results through the cutout service.\n",
    "\n",
    "Simply provide the number of IDs to reservce, and intern returns the starting ID of the block you requested. If you do not upload any data using the IDs, they will go unused."
   ]
  },
  {
   "cell_type": "code",
   "execution_count": null,
   "metadata": {
    "collapsed": false
   },
   "outputs": [],
   "source": [
    "first_id = rmt.reserve_ids(ch, 20)\n",
    "print(\"Reserved ID block: [{}, {}]\".format(first_id, first_id + 20))\n",
    "\n",
    "first_id = rmt.reserve_ids(ch, 100)\n",
    "print(\"Reserved ID block: [{}, {}]\".format(first_id, first_id + 100))"
   ]
  },
  {
   "cell_type": "markdown",
   "metadata": {},
   "source": [
    "## IDs in a region\n",
    "\n",
    "You can use `intern` to query the Boss for annotation IDs inside a bounding box"
   ]
  },
  {
   "cell_type": "code",
   "execution_count": null,
   "metadata": {
    "collapsed": false
   },
   "outputs": [],
   "source": [
    "# ids in region aligned to underlying cuboids\n",
    "x_rng = [512, 1024]\n",
    "y_rng = [512, 1024]\n",
    "z_rng = [16, 32]\n",
    "id_list = rmt.get_ids_in_region(ch, 0, x_rng, y_rng, z_rng)\n",
    "print(\"IDs in Region: {}\".format(id_list))"
   ]
  },
  {
   "cell_type": "code",
   "execution_count": null,
   "metadata": {
    "collapsed": false
   },
   "outputs": [],
   "source": [
    "# ids in region unaligned from underlying cuboids\n",
    "x_rng = [512, 800]\n",
    "y_rng = [512, 700]\n",
    "z_rng = [16, 18]\n",
    "id_list = rmt.get_ids_in_region(ch, 0, x_rng, y_rng, z_rng)\n",
    "print(\"IDs in Small Unaligned Region: {}\".format(id_list))"
   ]
  },
  {
   "cell_type": "markdown",
   "metadata": {},
   "source": [
    "## Bounding Box\n",
    "\n",
    "You can use intern to retrieve the bounding box around an annotation ID. Currently only \"loose\" bounding boxes are supported, which are aligned to cuboid boundaries (512x512x16). In the near future \"tight\" bounding boxes will be available that minimally enclose and ID"
   ]
  },
  {
   "cell_type": "code",
   "execution_count": null,
   "metadata": {
    "collapsed": false
   },
   "outputs": [],
   "source": [
    "print(\"Get bounding box for ID: {}\".format(id_list[0]))\n",
    "bb_loose = rmt.get_bounding_box(ch, 0, id_list[0], 'loose')\n",
    "print(bb_loose)"
   ]
  },
  {
   "cell_type": "markdown",
   "metadata": {},
   "source": [
    "## Filter Cutout by ID\n",
    "\n",
    "You can now provide an optional list of IDs to the `get_cutout` method, and the returned cutout will be filtered to only include those IDs on the server."
   ]
  },
  {
   "cell_type": "code",
   "execution_count": null,
   "metadata": {
    "collapsed": false
   },
   "outputs": [],
   "source": [
    "# normal cutout\n",
    "cutout = rmt.get_cutout(ch, 0,\n",
    "                        [512, 1024],\n",
    "                        [512, 1024],\n",
    "                        [0, 32])"
   ]
  },
  {
   "cell_type": "code",
   "execution_count": null,
   "metadata": {
    "collapsed": false
   },
   "outputs": [],
   "source": [
    "# Plot\n",
    "fig = plt.figure()\n",
    "im = plt.imshow(cutout[0,:,:], cmap=plt.cm.jet, interpolation='bicubic') \n",
    "\n",
    "def init():\n",
    "    im.set_data(cutout[0,:,:])\n",
    "\n",
    "def animate(i): \n",
    "    im.set_data(cutout[i,:,:])\n",
    "    return im\n",
    "\n",
    "animation.FuncAnimation(fig, animate, init_func=init, frames=cutout.shape[0],\n",
    "                               interval=75)"
   ]
  },
  {
   "cell_type": "code",
   "execution_count": null,
   "metadata": {
    "collapsed": true
   },
   "outputs": [],
   "source": [
    "# filtered cutout\n",
    "filtered_cutout = rmt.get_cutout(ch, 0,\n",
    "                        [512, 1024],\n",
    "                        [512, 1024],\n",
    "                        [0, 32],\n",
    "                        id_list=[int(id_list[0])])"
   ]
  },
  {
   "cell_type": "code",
   "execution_count": null,
   "metadata": {
    "collapsed": false
   },
   "outputs": [],
   "source": [
    "# Plot\n",
    "fig = plt.figure()\n",
    "im = plt.imshow(filtered_cutout[0,:,:], cmap=plt.cm.jet, interpolation='bicubic') \n",
    "\n",
    "def init():\n",
    "    im.set_data(filtered_cutout[0,:,:])\n",
    "\n",
    "def animate(i): \n",
    "    im.set_data(filtered_cutout[i,:,:])\n",
    "    return im\n",
    "\n",
    "animation.FuncAnimation(fig, animate, init_func=init, frames=filtered_cutout.shape[0],\n",
    "                               interval=75)"
   ]
  },
  {
   "cell_type": "code",
   "execution_count": null,
   "metadata": {
    "collapsed": false
   },
   "outputs": [],
   "source": [
    "# filtered cutout on an ID that doesn't exist should return an empty matrix\n",
    "filtered_cutout = rmt.get_cutout(ch, 0,\n",
    "                        [512, 1024],\n",
    "                        [512, 1024],\n",
    "                        [0, 32],\n",
    "                        id_list=[156146464])\n",
    "print(sum(filtered_cutout))"
   ]
  },
  {
   "cell_type": "code",
   "execution_count": null,
   "metadata": {
    "collapsed": true
   },
   "outputs": [],
   "source": []
  }
 ],
 "metadata": {
  "kernelspec": {
   "display_name": "Python 3",
   "language": "python",
   "name": "python3"
  },
  "language_info": {
   "codemirror_mode": {
    "name": "ipython",
    "version": 3
   },
   "file_extension": ".py",
   "mimetype": "text/x-python",
   "name": "python",
   "nbconvert_exporter": "python",
   "pygments_lexer": "ipython3",
   "version": "3.5.0"
  }
 },
 "nbformat": 4,
 "nbformat_minor": 0
}
