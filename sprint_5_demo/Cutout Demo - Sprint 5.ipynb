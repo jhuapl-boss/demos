{
 "cells": [
  {
   "cell_type": "code",
   "execution_count": null,
   "metadata": {
    "collapsed": false
   },
   "outputs": [],
   "source": [
    "%pylab inline\n",
    "\n",
    "# JSAnimation import available at https://github.com/jakevdp/JSAnimation\n",
    "from JSAnimation import IPython_display\n",
    "from matplotlib import animation\n",
    "\n",
    "import numpy as np\n",
    "\n",
    "from ndio.remote.boss.remote import Remote\n",
    "from ndio.ndresource.boss.resource import *\n",
    "from ndio.convert.tiff import load_tiff_multipage\n",
    "\n",
    "import os\n",
    "from datetime import datetime\n",
    "\n",
    "import boto3\n",
    "import requests\n",
    "from io import BytesIO\n"
   ]
  },
  {
   "cell_type": "markdown",
   "metadata": {},
   "source": [
    "## Setup ndio Remote instance for the Boss\n",
    "\n",
    "We are passing in a config file that is set up with the endpoint location and credentials"
   ]
  },
  {
   "cell_type": "code",
   "execution_count": null,
   "metadata": {
    "collapsed": false
   },
   "outputs": [],
   "source": [
    "rmt = Remote('demo.cfg')\n",
    "API_VER = 'v0.5'"
   ]
  },
  {
   "cell_type": "markdown",
   "metadata": {},
   "source": [
    "## Populating Data via Cutout Service\n",
    "Let's populated the Boss with some sample data to demonstrate S3 integratino.\n",
    "\n",
    "We'll start by creating a channel resource for this dataset, which is located in the \"brain1\" collection, \"ac4\" experiment, and \"em\" channel.\n",
    "\n",
    "Then well pulling down a 1024x1024x64 voxel chunck of EM data from the Kasthuri et. al. 2011 data set from and S3 bucket and write it to the Boss.\n",
    "\n"
   ]
  },
  {
   "cell_type": "code",
   "execution_count": null,
   "metadata": {
    "collapsed": false
   },
   "outputs": [],
   "source": [
    "# Create Collection\n",
    "col = CollectionResource('brain1', API_VER, 'Cutout Example Collection')\n",
    "try:\n",
    "    col = rmt.project_create(col)\n",
    "    if col:\n",
    "        print(\"Successfully Created Collection 'brain1'\")\n",
    "except:\n",
    "    col = rmt.project_get(col)\n",
    "\n",
    "\n",
    "# Create EM Coordinate Frame\n",
    "coord_em = CoordinateFrameResource('ac4_coord_frame', API_VER,\n",
    "                                   'Coordinate frame for AC4 region of EM Data.', 0, 1024, 0, 1024, 0, 64)\n",
    "try:\n",
    "    coord_em = rmt.project_create(coord_em)\n",
    "    if coord_em:\n",
    "        print(\"Successfully Created Coordinate Frame 'ac4_coord_frame'\")\n",
    "except:\n",
    "    # get coordinate props (eventually will fix this so get returns an instance and create returns an ID)\n",
    "    coord_em = rmt.project_get(coord_em)\n",
    "\n",
    "\n",
    "# Create Experiment for EM data\n",
    "em_exp = ExperimentResource('ac4', 'brain1', API_VER, 'Experiment for EM data.', coord_em.id)\n",
    "try:\n",
    "    em_exp = rmt.project_create(em_exp)\n",
    "    if em_exp:\n",
    "        print(\"Successfully Created Experiment 'ac4'\")\n",
    "except:\n",
    "    em_exp = rmt.project_get(em_exp)\n",
    "\n",
    "em_chan = ChannelResource('em', 'brain1', 'ac4', API_VER, 'EM channel', datatype='uint8')\n",
    "try:\n",
    "    em_chan = rmt.project_create(em_chan)\n",
    "    if em_chan:\n",
    "        print(\"Successfully Created Channel 'em'\")\n",
    "except:\n",
    "    em_chan = rmt.project_get(em_chan)"
   ]
  },
  {
   "cell_type": "code",
   "execution_count": null,
   "metadata": {
    "collapsed": false
   },
   "outputs": [],
   "source": [
    "# Get numpy array of data to upload that has been previously saved in S3\n",
    "r = requests.get(\"https://s3.amazonaws.com/boss-demo-data/kasthuri11_cube.npy\")\n",
    "b = BytesIO(r.content)\n",
    "data = np.load(b)\n",
    "print(data.shape)"
   ]
  },
  {
   "cell_type": "code",
   "execution_count": null,
   "metadata": {
    "collapsed": false
   },
   "outputs": [],
   "source": [
    "# Write data to the boss\n",
    "x_rng = '0:1024'\n",
    "y_rng = '0:1024'\n",
    "z_rng = '0:64'\n",
    "start = datetime.now()\n",
    "response = rmt.cutout_create(em_chan, 0, x_rng, y_rng, z_rng, data)\n",
    "end = datetime.now()\n",
    "delta = end-start\n",
    "\n",
    "print(\"Wrote {}MB to the Boss in {}.{} seconds\".format(data.size/10**6, delta.seconds, delta.microseconds))"
   ]
  },
  {
   "cell_type": "markdown",
   "metadata": {},
   "source": [
    "## Accessing EM Data - uint8 support\n",
    "We've already populated the Boss with some sample data for this demo.  Let's start by pulling down a 1024x1024x64 voxel chunck of EM data from the Kasthuri et. al. 2011 data set.\n",
    "\n",
    "Start by creating a channel resource for this dataset, which is located in the \"brain1\" collection, \"ac4\" experiment, and \"em\" channel."
   ]
  },
  {
   "cell_type": "code",
   "execution_count": null,
   "metadata": {
    "collapsed": false
   },
   "outputs": [],
   "source": [
    "# Create a resource for the channel you want to access\n",
    "em_chan = ChannelResource('em', 'brain1', 'ac4', API_VER)\n",
    "\n",
    "x_rng = '0:1024'\n",
    "y_rng = '0:1024'\n",
    "z_rng = '0:64'\n",
    "print(\"Downloading data\")\n",
    "start = datetime.now()\n",
    "data = rmt.cutout_get(em_chan, 0, x_rng, y_rng, z_rng)\n",
    "end = datetime.now()\n",
    "delta = end-start\n",
    "print(\"Downloaded {}MB from the Boss in {}.{} seconds\".format(data.size/10**6, delta.seconds, delta.microseconds))"
   ]
  },
  {
   "cell_type": "code",
   "execution_count": null,
   "metadata": {
    "collapsed": false
   },
   "outputs": [],
   "source": [
    "# Plot\n",
    "fig0 = plt.figure(figsize=(6,6))\n",
    "im = plt.imshow(data[1,:,:], cmap=plt.cm.gray, clim=(data.min(), data.max())) \n",
    "\n",
    "def init():\n",
    "    im.set_data(data[1,:,:])\n",
    "\n",
    "def animate(i):   \n",
    "    im.set_data(data[i,:,:])\n",
    "    return im\n",
    "\n",
    "animation.FuncAnimation(fig0, animate, init_func=init, frames=data.shape[0],\n",
    "                               interval=50)"
   ]
  },
  {
   "cell_type": "markdown",
   "metadata": {},
   "source": [
    "We can get some images from the tile service now\n",
    "\n",
    "The URL structure is: https://api.theboss.io/v0.5/tiles/(col)/(exp)/(ch)/xy/(res)/(x_range)/(y_range)/(z_slize)\n",
    "\n",
    "[Slice 0](https://api.theboss.io/v0.5/tiles/brain1/ac4/em/xy/0/0:1024/0:1024/0)\n",
    "\n",
    "[Slice 1](https://api.theboss.io/v0.5/tiles/brain1/ac4/em/xy/0/0:1024/0:1024/1)\n",
    "\n",
    "[Slice 2](https://api.theboss.io/v0.5/tiles/brain1/ac4/em/xy/0/0:1024/0:1024/2)\n",
    "\n",
    "[Slice 50](https://api.theboss.io/v0.5/tiles/brain1/ac4/em/xy/0/0:1024/0:1024/50)\n",
    "\n",
    "[Smaller Tile](https://api.theboss.io/v0.5/tiles/brain1/ac4/em/xy/0/0:512/0:512/0)"
   ]
  }
 ],
 "metadata": {
  "kernelspec": {
   "display_name": "Python 3",
   "language": "python",
   "name": "python3"
  },
  "language_info": {
   "codemirror_mode": {
    "name": "ipython",
    "version": 3
   },
   "file_extension": ".py",
   "mimetype": "text/x-python",
   "name": "python",
   "nbconvert_exporter": "python",
   "pygments_lexer": "ipython3",
   "version": "3.5.0"
  }
 },
 "nbformat": 4,
 "nbformat_minor": 0
}
