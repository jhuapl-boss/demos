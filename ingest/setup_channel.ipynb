{
 "cells": [
  {
   "cell_type": "markdown",
   "metadata": {},
   "source": [
    "# Setup A Channel for Ingest\n",
    "\n",
    "This notebook gives a working example of setting up a channel for ingest.  This is a simple example setting up a new Collection, Experiment, and Channel, but you could just as easily load data into existing channels, or create a Channel in an existing Experiment.\n",
    "\n",
    "\n",
    "It is assumed that you have python installed on your computer, jupyter, and have installed `intern` - a python library for working with the Boss.\n",
    "\n",
    "\n",
    "Finally, you need to provide your [secret API](https://api.theboss.io/token) token to `intern`.  If you've already installed and configured `intern` globally, you can ignore this.  If not, you need to set your token in the included \"my_creds\" file.\n"
   ]
  },
  {
   "cell_type": "code",
   "execution_count": null,
   "metadata": {
    "collapsed": true
   },
   "outputs": [],
   "source": [
    "# Setup intern\n",
    "from intern.remote.boss import BossRemote\n",
    "\n",
    "from intern.resource.boss.resource import *\n",
    "\n",
    "# If you don't have intern setup globally, put your token here!\n",
    "config = {\"protocol\": \"https\",\n",
    "          \"host\": \"api.theBoss.io\",\n",
    "          \"token\": \"mytoken\"}\n",
    "\n",
    "rmt = BossRemote(config)"
   ]
  },
  {
   "cell_type": "code",
   "execution_count": null,
   "metadata": {
    "collapsed": true
   },
   "outputs": [],
   "source": [
    "# Create a collection - this is the highest level container and should group things in the same \"brain\"\n",
    "# Note that collection names are unique, so you may need to change it!\n",
    "collection = CollectionResource(\"test_collection\", \"my test ingest collection\")\n",
    "collection = rmt.create_project(collection)"
   ]
  },
  {
   "cell_type": "code",
   "execution_count": null,
   "metadata": {
    "collapsed": true
   },
   "outputs": [],
   "source": [
    "# Create a coordinate frame - this specifies the extent of the dataset\n",
    "# Note that coordinate frame names are unique, so you may need to change it!\n",
    "coord = CoordinateFrameResource(\"test_coord\", \"my ingest test coordinate frame\", 0, 1024, 0, 1024, 0, 64, 3, 3, 30)\n",
    "coord = rmt.create_project(coord)"
   ]
  },
  {
   "cell_type": "code",
   "execution_count": null,
   "metadata": {
    "collapsed": true
   },
   "outputs": [],
   "source": [
    "# Create an experiment\n",
    "experiment = ExperimentResource(\"test_experiment\", collection.name, coord.name, \"my test ingest experiment\")\n",
    "experiment = rmt.create_project(experiment)"
   ]
  },
  {
   "cell_type": "code",
   "execution_count": null,
   "metadata": {
    "collapsed": true
   },
   "outputs": [],
   "source": [
    "# Create a channel\n",
    "channel = ChannelResource(\"test_channel\", collection.name, experiment.name, type=\"image\", description=\"my ingest test channel\")\n",
    "channel = rmt.create_project(channel)"
   ]
  }
 ],
 "metadata": {
  "kernelspec": {
   "display_name": "Python 3",
   "language": "python",
   "name": "python3"
  },
  "language_info": {
   "codemirror_mode": {
    "name": "ipython",
    "version": 3
   },
   "file_extension": ".py",
   "mimetype": "text/x-python",
   "name": "python",
   "nbconvert_exporter": "python",
   "pygments_lexer": "ipython3",
   "version": "3.5.0"
  }
 },
 "nbformat": 4,
 "nbformat_minor": 0
}
